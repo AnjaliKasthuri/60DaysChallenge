{
 "cells": [
  {
   "cell_type": "markdown",
   "id": "055707a9",
   "metadata": {},
   "source": [
    "1."
   ]
  },
  {
   "cell_type": "code",
   "execution_count": 2,
   "id": "2d536db4",
   "metadata": {},
   "outputs": [
    {
     "name": "stdout",
     "output_type": "stream",
     "text": [
      "((1, 2), ('a', 'b'))\n",
      "<class 'tuple'>\n"
     ]
    }
   ],
   "source": [
    "tupp = ((1,2), ('a', 'b'))\n",
    "print(tupp)\n",
    "print(type(tupp))"
   ]
  },
  {
   "cell_type": "code",
   "execution_count": 3,
   "id": "8f4bfaff",
   "metadata": {},
   "outputs": [
    {
     "name": "stdout",
     "output_type": "stream",
     "text": [
      "[(1, 2), ('a', 'b')]\n",
      "<class 'list'>\n"
     ]
    }
   ],
   "source": [
    "li = list(tupp)\n",
    "print(li)\n",
    "print(type(li))"
   ]
  },
  {
   "cell_type": "code",
   "execution_count": 4,
   "id": "a7d6449b",
   "metadata": {},
   "outputs": [
    {
     "name": "stdout",
     "output_type": "stream",
     "text": [
      "<class 'dict'>\n",
      "{1: 'a', 2: 'a'}\n"
     ]
    }
   ],
   "source": [
    "a = li[0]\n",
    "b = li[1]\n",
    "c = {}\n",
    "print(type(c))\n",
    "\n",
    "for i in a:\n",
    "    for j in b:\n",
    "        c[i] = j\n",
    "        break\n",
    "print(c)\n",
    "\n"
   ]
  },
  {
   "cell_type": "code",
   "execution_count": 5,
   "id": "68ab69cf",
   "metadata": {},
   "outputs": [
    {
     "name": "stdout",
     "output_type": "stream",
     "text": [
      "{1: 'a', 2: 'b'}\n"
     ]
    }
   ],
   "source": [
    "for i in range(len(a)):\n",
    "    c[a[i]] = b[i]\n",
    "print(c)"
   ]
  },
  {
   "cell_type": "markdown",
   "id": "2900aff5",
   "metadata": {},
   "source": [
    "Task: Create a dictionary where each number is mapped to the corresponding letter:"
   ]
  },
  {
   "cell_type": "code",
   "execution_count": 6,
   "id": "8a119a9b",
   "metadata": {},
   "outputs": [
    {
     "name": "stdout",
     "output_type": "stream",
     "text": [
      "{10: 'x', 20: 'y', 30: 'z'}\n"
     ]
    }
   ],
   "source": [
    "a = (10, 20, 30)\n",
    "b = ('x', 'y', 'z')\n",
    "c={}\n",
    "\n",
    "for i in range(len(a)):\n",
    "    c[a[i]]=b[i]\n",
    "\n",
    "print(c)\n"
   ]
  },
  {
   "cell_type": "markdown",
   "id": "b2f57bbe",
   "metadata": {},
   "source": [
    "Now reverse the  key-value:"
   ]
  },
  {
   "cell_type": "code",
   "execution_count": 13,
   "id": "d1aa36cf",
   "metadata": {},
   "outputs": [
    {
     "name": "stdout",
     "output_type": "stream",
     "text": [
      "{'x': 10, 'y': 20, 'z': 30}\n",
      "{'x': 10, 'y': 20, 'z': 30}\n"
     ]
    }
   ],
   "source": [
    "s={}\n",
    "y={}\n",
    "for i in range(len(b)):\n",
    "    s[b[i]]=a[i]\n",
    "\n",
    "print(s)\n",
    "\n",
    "\n",
    "for i in range(len(b)):\n",
    "    y[b[-i]]=a[-i]\n",
    "\n",
    "print(s)"
   ]
  },
  {
   "cell_type": "code",
   "execution_count": 12,
   "id": "49e2793d",
   "metadata": {},
   "outputs": [
    {
     "name": "stdout",
     "output_type": "stream",
     "text": [
      "0\n",
      "1\n",
      "2\n"
     ]
    }
   ],
   "source": [
    "for i in range(3):\n",
    "    print(i)"
   ]
  },
  {
   "cell_type": "markdown",
   "id": "ba36f9a5",
   "metadata": {},
   "source": [
    "Now reverse the dictionary"
   ]
  },
  {
   "cell_type": "code",
   "execution_count": 17,
   "id": "72249f40",
   "metadata": {},
   "outputs": [
    {
     "name": "stdout",
     "output_type": "stream",
     "text": [
      "('x', 'y', 'z')\n",
      "(10, 20, 30)\n",
      "{'x': 10, 'y': 20, 'z': 30}\n",
      "{'z': 30, 'y': 20, 'x': 10}\n"
     ]
    }
   ],
   "source": [
    "print(b)\n",
    "print(a)\n",
    "print(s)\n",
    "z={}\n",
    "for i in range(1,len(b)+1):\n",
    "    z[b[-i]]=a[-i]\n",
    "\n",
    "print(z)"
   ]
  },
  {
   "cell_type": "code",
   "execution_count": null,
   "id": "74a5bd1f",
   "metadata": {},
   "outputs": [],
   "source": []
  },
  {
   "cell_type": "code",
   "execution_count": null,
   "id": "ea6bcf7a",
   "metadata": {},
   "outputs": [],
   "source": []
  },
  {
   "cell_type": "code",
   "execution_count": null,
   "id": "12df6170",
   "metadata": {},
   "outputs": [],
   "source": []
  }
 ],
 "metadata": {
  "kernelspec": {
   "display_name": "cyootipie",
   "language": "python",
   "name": "python3"
  },
  "language_info": {
   "codemirror_mode": {
    "name": "ipython",
    "version": 3
   },
   "file_extension": ".py",
   "mimetype": "text/x-python",
   "name": "python",
   "nbconvert_exporter": "python",
   "pygments_lexer": "ipython3",
   "version": "3.9.6"
  }
 },
 "nbformat": 4,
 "nbformat_minor": 5
}
