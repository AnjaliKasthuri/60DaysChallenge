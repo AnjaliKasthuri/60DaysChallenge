{
 "cells": [
  {
   "cell_type": "code",
   "execution_count": 1,
   "id": "f0d8d4c6",
   "metadata": {},
   "outputs": [],
   "source": [
    "# Comment is created by using a # symbol before"
   ]
  },
  {
   "cell_type": "markdown",
   "id": "9cd16313",
   "metadata": {},
   "source": [
    "VARIABLES AND DATATYPES"
   ]
  },
  {
   "cell_type": "code",
   "execution_count": 19,
   "id": "b39d9442",
   "metadata": {},
   "outputs": [
    {
     "name": "stdout",
     "output_type": "stream",
     "text": [
      "<class 'int'>\n",
      "<class 'float'>\n",
      "<class 'str'>\n",
      "<class 'bool'>\n",
      "<class 'complex'>\n",
      "<class 'list'>\n",
      "<class 'tuple'>\n",
      "<class 'range'>\n",
      "<class 'dict'>\n",
      "range(0, 6)\n",
      "0\n",
      "1\n",
      "2\n",
      "3\n",
      "4\n",
      "5\n"
     ]
    }
   ],
   "source": [
    "x = 5          # int\n",
    "y = 3.14       # float\n",
    "name = \"Alex\"  # string\n",
    "is_active = True  # boolean\n",
    "d = 1j\n",
    "e = [\"apple\", \"mango\"]\n",
    "f = (\"apple\", \"mango\")\n",
    "g = range(6)\n",
    "h = {\"name\": \"Anjali\", \"role\": \"Data Scientist\"}\n",
    "print(type(x))\n",
    "print(type(y))\n",
    "print(type(name))\n",
    "print(type(is_active))\n",
    "print(type(d))\n",
    "print(type(e))\n",
    "print(type(f))\n",
    "print(type(g))\n",
    "print(type(h))\n",
    "\n",
    "print(g)\n",
    "\n",
    "for i in g:\n",
    "    print(i)"
   ]
  },
  {
   "cell_type": "markdown",
   "id": "cb6a874c",
   "metadata": {},
   "source": [
    "Variables can be assigned in a single line"
   ]
  },
  {
   "cell_type": "code",
   "execution_count": 8,
   "id": "98f00232",
   "metadata": {},
   "outputs": [
    {
     "name": "stdout",
     "output_type": "stream",
     "text": [
      "abc\n",
      "def\n",
      "ghi\n"
     ]
    }
   ],
   "source": [
    "x, y, z = \"abc\", \"def\", \"ghi\"\n",
    "print(x)\n",
    "print(y)\n",
    "print(z)"
   ]
  },
  {
   "cell_type": "code",
   "execution_count": 10,
   "id": "7b2cc338",
   "metadata": {},
   "outputs": [
    {
     "name": "stdout",
     "output_type": "stream",
     "text": [
      "apple banana kiwi\n"
     ]
    }
   ],
   "source": [
    "fruits = [\"apple\", \"banana\", \"kiwi\", \"mango\", \"avocado\"]\n",
    "\n",
    "x, y, z, a, b = fruits\n",
    "print(x, y, z)"
   ]
  },
  {
   "cell_type": "code",
   "execution_count": 13,
   "id": "178a5fee",
   "metadata": {},
   "outputs": [
    {
     "name": "stdout",
     "output_type": "stream",
     "text": [
      "python is awesome i love it\n"
     ]
    }
   ],
   "source": [
    "x=\"python \"\n",
    "y=\"is awesome \"\n",
    "z=\"i love it\"\n",
    "\n",
    "print(x+y+z)"
   ]
  },
  {
   "cell_type": "code",
   "execution_count": 15,
   "id": "694a3c42",
   "metadata": {},
   "outputs": [
    {
     "name": "stdout",
     "output_type": "stream",
     "text": [
      "5801\n",
      "-3333\n",
      "5635678\n",
      "0.27019925552879354\n"
     ]
    }
   ],
   "source": [
    "x=1234\n",
    "y=4567\n",
    "print(x+y)\n",
    "print(x-y)\n",
    "print(x*y)\n",
    "print(x/y)"
   ]
  },
  {
   "cell_type": "code",
   "execution_count": 16,
   "id": "3c887d20",
   "metadata": {},
   "outputs": [
    {
     "name": "stdout",
     "output_type": "stream",
     "text": [
      "i love python\n"
     ]
    }
   ],
   "source": [
    "x = \"python\"\n",
    "\n",
    "def func():\n",
    "    print(\"i love \" + x)\n",
    "\n",
    "func()"
   ]
  },
  {
   "cell_type": "markdown",
   "id": "964cab07",
   "metadata": {},
   "source": [
    "BASIC INPUT/OUTPUT"
   ]
  },
  {
   "cell_type": "code",
   "execution_count": 2,
   "id": "2a5bab8b",
   "metadata": {},
   "outputs": [
    {
     "name": "stdout",
     "output_type": "stream",
     "text": [
      "Username:  Anjali\n"
     ]
    }
   ],
   "source": [
    "user = input(\"User name: \")\n",
    "print(\"Username: \", user)"
   ]
  },
  {
   "cell_type": "code",
   "execution_count": 4,
   "id": "fa7a937e",
   "metadata": {},
   "outputs": [
    {
     "name": "stdout",
     "output_type": "stream",
     "text": [
      "15\n",
      "100\n"
     ]
    }
   ],
   "source": [
    "result1 = 10 + 5\n",
    "result2 = 10 ** 2 \n",
    "print(result1)\n",
    "print(result2)"
   ]
  },
  {
   "cell_type": "markdown",
   "id": "818de82c",
   "metadata": {},
   "source": [
    "CONDITIONAL STATEMENTS"
   ]
  },
  {
   "cell_type": "markdown",
   "id": "fb97e3db",
   "metadata": {},
   "source": [
    "1. If Conditional Statement\n",
    "\n",
    "If statement is the simplest form of a conditional statement. It executes a block of code if the given condition is true."
   ]
  },
  {
   "cell_type": "code",
   "execution_count": 5,
   "id": "5f7123f3",
   "metadata": {},
   "outputs": [
    {
     "name": "stdout",
     "output_type": "stream",
     "text": [
      "Yes greater\n"
     ]
    }
   ],
   "source": [
    "age = 12\n",
    "\n",
    "if age > 10:\n",
    "    print(\"Yes greater\")"
   ]
  },
  {
   "cell_type": "markdown",
   "id": "e448eb13",
   "metadata": {},
   "source": [
    "2. Short Hand if\n",
    "\n",
    "Short-hand if statement allows us to write a single-line if statement."
   ]
  },
  {
   "cell_type": "code",
   "execution_count": 6,
   "id": "281b1aa3",
   "metadata": {},
   "outputs": [
    {
     "name": "stdout",
     "output_type": "stream",
     "text": [
      "younger than me\n"
     ]
    }
   ],
   "source": [
    "year = 2002\n",
    "\n",
    "if year < 2003: print(\"younger than me\")"
   ]
  },
  {
   "cell_type": "markdown",
   "id": "cd70c25b",
   "metadata": {},
   "source": [
    "3. If else Conditional Statement\n",
    "\n",
    "Else allows us to specify a block of code that will execute if the condition(s) associated with an if or elif statement evaluates to False."
   ]
  },
  {
   "cell_type": "code",
   "execution_count": 20,
   "id": "14c63669",
   "metadata": {},
   "outputs": [
    {
     "name": "stdout",
     "output_type": "stream",
     "text": [
      "greater\n"
     ]
    }
   ],
   "source": [
    "a = 5\n",
    "\n",
    "if a > 3:\n",
    "    print(\"greater\")\n",
    "else:\n",
    "    print(\"lesser\")\n"
   ]
  },
  {
   "cell_type": "markdown",
   "id": "51aa518d",
   "metadata": {},
   "source": [
    "4. Short Hand if-else\n",
    "\n",
    "The short-hand if-else statement allows us to write a single-line if-else statement."
   ]
  },
  {
   "cell_type": "code",
   "execution_count": 21,
   "id": "d11aa25a",
   "metadata": {},
   "outputs": [
    {
     "name": "stdout",
     "output_type": "stream",
     "text": [
      "younger\n"
     ]
    }
   ],
   "source": [
    "age = 23\n",
    "\n",
    "compare = \"younger\" if age <= 25 else \"elder\"\n",
    "\n",
    "print(compare)"
   ]
  },
  {
   "cell_type": "markdown",
   "id": "cb622aa7",
   "metadata": {},
   "source": [
    "5. elif Statement\n",
    "\n",
    " It allows us to check multiple conditions , providing a way to execute different blocks of code based on which condition is true."
   ]
  },
  {
   "cell_type": "code",
   "execution_count": 22,
   "id": "62ff2383",
   "metadata": {},
   "outputs": [
    {
     "name": "stdout",
     "output_type": "stream",
     "text": [
      "exact count\n"
     ]
    }
   ],
   "source": [
    "count = 20\n",
    "\n",
    "if count > 20:\n",
    "    print(\"we have enough\")\n",
    "elif count == 20:\n",
    "    print(\"exact count\")\n",
    "else:\n",
    "    print(\"sorry need more people\")"
   ]
  },
  {
   "cell_type": "markdown",
   "id": "60be06b0",
   "metadata": {},
   "source": [
    "6. Nested if-else Conditional Statements\n",
    "\n",
    "if-else statement inside another if statement"
   ]
  },
  {
   "cell_type": "code",
   "execution_count": 23,
   "id": "227af17f",
   "metadata": {},
   "outputs": [
    {
     "name": "stdout",
     "output_type": "stream",
     "text": [
      "concert free\n"
     ]
    }
   ],
   "source": [
    "age = 20\n",
    "younger = True\n",
    "\n",
    "if age <=20:\n",
    "    if younger:\n",
    "        print(\"concert free\")\n",
    "    else:\n",
    "        print(\"Has to pay the minimum amount\")\n",
    "else:\n",
    "    print(\"Pay amount of 1500\")"
   ]
  },
  {
   "cell_type": "markdown",
   "id": "5a02bdb2",
   "metadata": {},
   "source": [
    "### LOOPS"
   ]
  },
  {
   "cell_type": "markdown",
   "id": "f220d5ec",
   "metadata": {},
   "source": [
    "1. for loop\n",
    "\n",
    "used to iterate over a sequence such as a list, tuple, string or range."
   ]
  },
  {
   "cell_type": "code",
   "execution_count": 25,
   "id": "5e91b0ff",
   "metadata": {},
   "outputs": [
    {
     "name": "stdout",
     "output_type": "stream",
     "text": [
      "0\n",
      "1\n",
      "2\n"
     ]
    }
   ],
   "source": [
    "a = 3\n",
    "\n",
    "for i in range(a):\n",
    "    print(i)"
   ]
  },
  {
   "cell_type": "code",
   "execution_count": 29,
   "id": "1870576e",
   "metadata": {},
   "outputs": [
    {
     "name": "stdout",
     "output_type": "stream",
     "text": [
      "mango\n",
      "apple\n",
      "orange\n"
     ]
    }
   ],
   "source": [
    "li = [\"mango\", \"apple\", \"orange\"]\n",
    "for i in li:\n",
    "    print(i)"
   ]
  },
  {
   "cell_type": "code",
   "execution_count": 30,
   "id": "59f07cc2",
   "metadata": {},
   "outputs": [
    {
     "name": "stdout",
     "output_type": "stream",
     "text": [
      "mango\n",
      "apple\n",
      "orange\n"
     ]
    }
   ],
   "source": [
    "tup = (\"mango\", \"apple\", \"orange\")\n",
    "for i in tup:\n",
    "    print(i)"
   ]
  },
  {
   "cell_type": "code",
   "execution_count": 31,
   "id": "48ee5f59",
   "metadata": {},
   "outputs": [
    {
     "name": "stdout",
     "output_type": "stream",
     "text": [
      "A\n",
      "n\n",
      "j\n",
      "a\n",
      "l\n",
      "i\n"
     ]
    }
   ],
   "source": [
    "a = \"Anjali\"\n",
    "\n",
    "for i in a:\n",
    "    print(i)"
   ]
  },
  {
   "cell_type": "code",
   "execution_count": 35,
   "id": "b099556c",
   "metadata": {},
   "outputs": [
    {
     "name": "stdout",
     "output_type": "stream",
     "text": [
      "a 123\n",
      "b 456\n"
     ]
    }
   ],
   "source": [
    "d = dict({\"a\": 123, \"b\": 456})\n",
    "\n",
    "for i in d:\n",
    "    print(i, d[i])"
   ]
  },
  {
   "cell_type": "code",
   "execution_count": 36,
   "id": "5e962e3e",
   "metadata": {},
   "outputs": [
    {
     "name": "stdout",
     "output_type": "stream",
     "text": [
      "1\n",
      "2\n",
      "3\n",
      "4\n",
      "5\n",
      "6\n"
     ]
    }
   ],
   "source": [
    "sett = {1, 2, 3, 4, 5, 6}\n",
    "\n",
    "for i in sett:\n",
    "    print(i)"
   ]
  },
  {
   "cell_type": "markdown",
   "id": "c1a1a3ab",
   "metadata": {},
   "source": [
    "### FUNCTIONS"
   ]
  },
  {
   "cell_type": "markdown",
   "id": "c212f6d5",
   "metadata": {},
   "source": [
    "1. "
   ]
  },
  {
   "cell_type": "code",
   "execution_count": 37,
   "id": "a4f344f0",
   "metadata": {},
   "outputs": [],
   "source": [
    "def fun():\n",
    "    print(\"Welcome Anjali\")"
   ]
  },
  {
   "cell_type": "code",
   "execution_count": 38,
   "id": "81009dc4",
   "metadata": {},
   "outputs": [
    {
     "name": "stdout",
     "output_type": "stream",
     "text": [
      "Welcome Anjali\n"
     ]
    }
   ],
   "source": [
    "fun()"
   ]
  },
  {
   "cell_type": "markdown",
   "id": "8cc7f8c9",
   "metadata": {},
   "source": [
    "2."
   ]
  },
  {
   "cell_type": "code",
   "execution_count": 39,
   "id": "25cba30a",
   "metadata": {},
   "outputs": [],
   "source": [
    "def fun2(name):\n",
    "    print(\"Welcome\", name)"
   ]
  },
  {
   "cell_type": "code",
   "execution_count": 42,
   "id": "edba2edc",
   "metadata": {},
   "outputs": [
    {
     "name": "stdout",
     "output_type": "stream",
     "text": [
      "Welcome Anjali\n"
     ]
    }
   ],
   "source": [
    "fun2(name=\"Anjali\")"
   ]
  },
  {
   "cell_type": "code",
   "execution_count": 43,
   "id": "855c0c60",
   "metadata": {},
   "outputs": [
    {
     "name": "stdout",
     "output_type": "stream",
     "text": [
      "Welcome data\n"
     ]
    }
   ],
   "source": [
    "fun2(\"data\")"
   ]
  },
  {
   "cell_type": "markdown",
   "id": "04a5f833",
   "metadata": {},
   "source": [
    "3. "
   ]
  },
  {
   "cell_type": "code",
   "execution_count": 50,
   "id": "582a62d2",
   "metadata": {},
   "outputs": [],
   "source": [
    "def fun3(name, age):\n",
    "    print(\"Hi I'm\", name, \"and I'm\", age, \"years old\")"
   ]
  },
  {
   "cell_type": "code",
   "execution_count": 51,
   "id": "3a17182f",
   "metadata": {},
   "outputs": [
    {
     "name": "stdout",
     "output_type": "stream",
     "text": [
      "Hi I'm Anjali and I'm 23 years old\n"
     ]
    }
   ],
   "source": [
    "fun3(\"Anjali\", 23)"
   ]
  },
  {
   "cell_type": "code",
   "execution_count": 54,
   "id": "1a98b9c2",
   "metadata": {},
   "outputs": [
    {
     "name": "stdout",
     "output_type": "stream",
     "text": [
      "x 5\n",
      "y 50\n"
     ]
    }
   ],
   "source": [
    "def myfun(x, y = 50):\n",
    "    print(\"x\", x)\n",
    "    print(\"y\", y)\n",
    "\n",
    "myfun(5)"
   ]
  },
  {
   "cell_type": "markdown",
   "id": "7e0d8590",
   "metadata": {},
   "source": [
    "Function within function"
   ]
  },
  {
   "cell_type": "code",
   "execution_count": 55,
   "id": "8aa2923a",
   "metadata": {},
   "outputs": [
    {
     "name": "stdout",
     "output_type": "stream",
     "text": [
      "Hello World\n"
     ]
    }
   ],
   "source": [
    "def fun1():\n",
    "    a = \"Hello World\"\n",
    "    def fun2():\n",
    "        print(a)\n",
    "\n",
    "    fun2()\n",
    "fun1()"
   ]
  },
  {
   "cell_type": "markdown",
   "id": "2d9e7c1c",
   "metadata": {},
   "source": [
    "Anonymous / Lambda function (Functions without name)"
   ]
  },
  {
   "cell_type": "code",
   "execution_count": 58,
   "id": "9b736056",
   "metadata": {},
   "outputs": [
    {
     "name": "stdout",
     "output_type": "stream",
     "text": [
      "4\n",
      "25\n"
     ]
    }
   ],
   "source": [
    "lam1 = lambda x: x*x     # withh lambda\n",
    "\n",
    "def lam2(x): return x*x\n",
    "\n",
    "print(lam1(2))\n",
    "print(lam2(5))\n"
   ]
  },
  {
   "cell_type": "markdown",
   "id": "d9ce695b",
   "metadata": {},
   "source": [
    "RETURN STATEMENTS"
   ]
  },
  {
   "cell_type": "code",
   "execution_count": 59,
   "id": "c16b2041",
   "metadata": {},
   "outputs": [
    {
     "data": {
      "text/plain": [
       "8"
      ]
     },
     "execution_count": 59,
     "metadata": {},
     "output_type": "execute_result"
    }
   ],
   "source": [
    "def yoo(x):\n",
    "    return x**3\n",
    "\n",
    "yoo(2)"
   ]
  },
  {
   "cell_type": "code",
   "execution_count": null,
   "id": "a681b215",
   "metadata": {},
   "outputs": [],
   "source": []
  }
 ],
 "metadata": {
  "kernelspec": {
   "display_name": "cyootipie",
   "language": "python",
   "name": "python3"
  },
  "language_info": {
   "codemirror_mode": {
    "name": "ipython",
    "version": 3
   },
   "file_extension": ".py",
   "mimetype": "text/x-python",
   "name": "python",
   "nbconvert_exporter": "python",
   "pygments_lexer": "ipython3",
   "version": "3.9.6"
  }
 },
 "nbformat": 4,
 "nbformat_minor": 5
}
