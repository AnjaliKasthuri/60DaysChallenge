{
 "cells": [
  {
   "cell_type": "code",
   "execution_count": 1,
   "id": "f0d8d4c6",
   "metadata": {},
   "outputs": [],
   "source": [
    "# Comment is created by using a # symbol before"
   ]
  },
  {
   "cell_type": "markdown",
   "id": "9cd16313",
   "metadata": {},
   "source": [
    "VARIABLES AND DATATYPES"
   ]
  },
  {
   "cell_type": "code",
   "execution_count": 9,
   "id": "b39d9442",
   "metadata": {},
   "outputs": [
    {
     "name": "stdout",
     "output_type": "stream",
     "text": [
      "<class 'int'>\n",
      "<class 'float'>\n",
      "<class 'str'>\n",
      "<class 'bool'>\n"
     ]
    }
   ],
   "source": [
    "x = 5          # int\n",
    "y = 3.14       # float\n",
    "name = \"Alex\"  # string\n",
    "is_active = True  # boolean\n",
    "\n",
    "print(type(x))\n",
    "print(type(y))\n",
    "print(type(name))\n",
    "print(type(is_active))"
   ]
  },
  {
   "cell_type": "markdown",
   "id": "cb6a874c",
   "metadata": {},
   "source": [
    "Variables can be assigned in a single line"
   ]
  },
  {
   "cell_type": "code",
   "execution_count": 8,
   "id": "98f00232",
   "metadata": {},
   "outputs": [
    {
     "name": "stdout",
     "output_type": "stream",
     "text": [
      "abc\n",
      "def\n",
      "ghi\n"
     ]
    }
   ],
   "source": [
    "x, y, z = \"abc\", \"def\", \"ghi\"\n",
    "print(x)\n",
    "print(y)\n",
    "print(z)"
   ]
  },
  {
   "cell_type": "code",
   "execution_count": 10,
   "id": "7b2cc338",
   "metadata": {},
   "outputs": [
    {
     "name": "stdout",
     "output_type": "stream",
     "text": [
      "apple banana kiwi\n"
     ]
    }
   ],
   "source": [
    "fruits = [\"apple\", \"banana\", \"kiwi\", \"mango\", \"avocado\"]\n",
    "\n",
    "x, y, z, a, b = fruits\n",
    "print(x, y, z)"
   ]
  },
  {
   "cell_type": "code",
   "execution_count": 13,
   "id": "178a5fee",
   "metadata": {},
   "outputs": [
    {
     "name": "stdout",
     "output_type": "stream",
     "text": [
      "python is awesome i love it\n"
     ]
    }
   ],
   "source": [
    "x=\"python \"\n",
    "y=\"is awesome \"\n",
    "z=\"i love it\"\n",
    "\n",
    "print(x+y+z)"
   ]
  },
  {
   "cell_type": "code",
   "execution_count": 15,
   "id": "694a3c42",
   "metadata": {},
   "outputs": [
    {
     "name": "stdout",
     "output_type": "stream",
     "text": [
      "5801\n",
      "-3333\n",
      "5635678\n",
      "0.27019925552879354\n"
     ]
    }
   ],
   "source": [
    "x=1234\n",
    "y=4567\n",
    "print(x+y)\n",
    "print(x-y)\n",
    "print(x*y)\n",
    "print(x/y)"
   ]
  },
  {
   "cell_type": "code",
   "execution_count": 16,
   "id": "3c887d20",
   "metadata": {},
   "outputs": [
    {
     "name": "stdout",
     "output_type": "stream",
     "text": [
      "i love python\n"
     ]
    }
   ],
   "source": [
    "x = \"python\"\n",
    "\n",
    "def func():\n",
    "    print(\"i love \" + x)\n",
    "\n",
    "func()"
   ]
  },
  {
   "cell_type": "markdown",
   "id": "964cab07",
   "metadata": {},
   "source": [
    "BASIC INPUT/OUTPUT"
   ]
  },
  {
   "cell_type": "code",
   "execution_count": 2,
   "id": "2a5bab8b",
   "metadata": {},
   "outputs": [
    {
     "name": "stdout",
     "output_type": "stream",
     "text": [
      "Username:  Anjali\n"
     ]
    }
   ],
   "source": [
    "user = input(\"User name: \")\n",
    "print(\"Username: \", user)"
   ]
  },
  {
   "cell_type": "code",
   "execution_count": 4,
   "id": "fa7a937e",
   "metadata": {},
   "outputs": [
    {
     "name": "stdout",
     "output_type": "stream",
     "text": [
      "15\n",
      "100\n"
     ]
    }
   ],
   "source": [
    "result1 = 10 + 5\n",
    "result2 = 10 ** 2 \n",
    "print(result1)\n",
    "print(result2)"
   ]
  },
  {
   "cell_type": "markdown",
   "id": "818de82c",
   "metadata": {},
   "source": [
    "CONDITIONAL STATEMENTS"
   ]
  },
  {
   "cell_type": "markdown",
   "id": "fb97e3db",
   "metadata": {},
   "source": [
    "1. If Conditional Statement\n",
    "\n",
    "If statement is the simplest form of a conditional statement. It executes a block of code if the given condition is true."
   ]
  },
  {
   "cell_type": "code",
   "execution_count": 5,
   "id": "5f7123f3",
   "metadata": {},
   "outputs": [
    {
     "name": "stdout",
     "output_type": "stream",
     "text": [
      "Yes greater\n"
     ]
    }
   ],
   "source": [
    "age = 12\n",
    "\n",
    "if age > 10:\n",
    "    print(\"Yes greater\")"
   ]
  },
  {
   "cell_type": "markdown",
   "id": "e448eb13",
   "metadata": {},
   "source": [
    "2. Short Hand if\n",
    "\n",
    "Short-hand if statement allows us to write a single-line if statement."
   ]
  },
  {
   "cell_type": "code",
   "execution_count": 6,
   "id": "281b1aa3",
   "metadata": {},
   "outputs": [
    {
     "name": "stdout",
     "output_type": "stream",
     "text": [
      "younger than me\n"
     ]
    }
   ],
   "source": [
    "year = 2002\n",
    "\n",
    "if year < 2003: print(\"younger than me\")"
   ]
  },
  {
   "cell_type": "code",
   "execution_count": null,
   "id": "14c63669",
   "metadata": {},
   "outputs": [],
   "source": []
  },
  {
   "cell_type": "code",
   "execution_count": null,
   "id": "d11aa25a",
   "metadata": {},
   "outputs": [],
   "source": []
  },
  {
   "cell_type": "code",
   "execution_count": null,
   "id": "62ff2383",
   "metadata": {},
   "outputs": [],
   "source": []
  },
  {
   "cell_type": "code",
   "execution_count": null,
   "id": "227af17f",
   "metadata": {},
   "outputs": [],
   "source": []
  },
  {
   "cell_type": "code",
   "execution_count": null,
   "id": "5e91b0ff",
   "metadata": {},
   "outputs": [],
   "source": []
  },
  {
   "cell_type": "code",
   "execution_count": null,
   "id": "1870576e",
   "metadata": {},
   "outputs": [],
   "source": []
  },
  {
   "cell_type": "code",
   "execution_count": null,
   "id": "59f07cc2",
   "metadata": {},
   "outputs": [],
   "source": []
  }
 ],
 "metadata": {
  "kernelspec": {
   "display_name": "cyootipie",
   "language": "python",
   "name": "python3"
  },
  "language_info": {
   "codemirror_mode": {
    "name": "ipython",
    "version": 3
   },
   "file_extension": ".py",
   "mimetype": "text/x-python",
   "name": "python",
   "nbconvert_exporter": "python",
   "pygments_lexer": "ipython3",
   "version": "3.9.6"
  }
 },
 "nbformat": 4,
 "nbformat_minor": 5
}
